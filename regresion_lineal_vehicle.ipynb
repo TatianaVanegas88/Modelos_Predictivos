{
 "cells": [
  {
   "cell_type": "code",
   "execution_count": 9,
   "id": "04179011-cc24-4300-a1d4-f848e8240928",
   "metadata": {},
   "outputs": [
    {
     "data": {
      "text/html": [
       "<div>\n",
       "<style scoped>\n",
       "    .dataframe tbody tr th:only-of-type {\n",
       "        vertical-align: middle;\n",
       "    }\n",
       "\n",
       "    .dataframe tbody tr th {\n",
       "        vertical-align: top;\n",
       "    }\n",
       "\n",
       "    .dataframe thead th {\n",
       "        text-align: right;\n",
       "    }\n",
       "</style>\n",
       "<table border=\"1\" class=\"dataframe\">\n",
       "  <thead>\n",
       "    <tr style=\"text-align: right;\">\n",
       "      <th></th>\n",
       "      <th>name</th>\n",
       "      <th>year</th>\n",
       "      <th>selling_price</th>\n",
       "      <th>km_driven</th>\n",
       "      <th>fuel</th>\n",
       "      <th>seller_type</th>\n",
       "      <th>transmission</th>\n",
       "      <th>owner</th>\n",
       "      <th>mileage</th>\n",
       "      <th>engine</th>\n",
       "      <th>max_power</th>\n",
       "      <th>torque</th>\n",
       "      <th>seats</th>\n",
       "    </tr>\n",
       "  </thead>\n",
       "  <tbody>\n",
       "    <tr>\n",
       "      <th>0</th>\n",
       "      <td>Maruti Swift Dzire VDI</td>\n",
       "      <td>2014</td>\n",
       "      <td>450000</td>\n",
       "      <td>145500</td>\n",
       "      <td>Diesel</td>\n",
       "      <td>Individual</td>\n",
       "      <td>Manual</td>\n",
       "      <td>First Owner</td>\n",
       "      <td>23.4 kmpl</td>\n",
       "      <td>1248 CC</td>\n",
       "      <td>74 bhp</td>\n",
       "      <td>190Nm@ 2000rpm</td>\n",
       "      <td>5.0</td>\n",
       "    </tr>\n",
       "    <tr>\n",
       "      <th>1</th>\n",
       "      <td>Skoda Rapid 1.5 TDI Ambition</td>\n",
       "      <td>2014</td>\n",
       "      <td>370000</td>\n",
       "      <td>120000</td>\n",
       "      <td>Diesel</td>\n",
       "      <td>Individual</td>\n",
       "      <td>Manual</td>\n",
       "      <td>Second Owner</td>\n",
       "      <td>21.14 kmpl</td>\n",
       "      <td>1498 CC</td>\n",
       "      <td>103.52 bhp</td>\n",
       "      <td>250Nm@ 1500-2500rpm</td>\n",
       "      <td>5.0</td>\n",
       "    </tr>\n",
       "    <tr>\n",
       "      <th>2</th>\n",
       "      <td>Honda City 2017-2020 EXi</td>\n",
       "      <td>2006</td>\n",
       "      <td>158000</td>\n",
       "      <td>140000</td>\n",
       "      <td>Petrol</td>\n",
       "      <td>Individual</td>\n",
       "      <td>Manual</td>\n",
       "      <td>Third Owner</td>\n",
       "      <td>17.7 kmpl</td>\n",
       "      <td>1497 CC</td>\n",
       "      <td>78 bhp</td>\n",
       "      <td>12.7@ 2,700(kgm@ rpm)</td>\n",
       "      <td>5.0</td>\n",
       "    </tr>\n",
       "    <tr>\n",
       "      <th>3</th>\n",
       "      <td>Hyundai i20 Sportz Diesel</td>\n",
       "      <td>2010</td>\n",
       "      <td>225000</td>\n",
       "      <td>127000</td>\n",
       "      <td>Diesel</td>\n",
       "      <td>Individual</td>\n",
       "      <td>Manual</td>\n",
       "      <td>First Owner</td>\n",
       "      <td>23.0 kmpl</td>\n",
       "      <td>1396 CC</td>\n",
       "      <td>90 bhp</td>\n",
       "      <td>22.4 kgm at 1750-2750rpm</td>\n",
       "      <td>5.0</td>\n",
       "    </tr>\n",
       "    <tr>\n",
       "      <th>4</th>\n",
       "      <td>Maruti Swift VXI BSIII</td>\n",
       "      <td>2007</td>\n",
       "      <td>130000</td>\n",
       "      <td>120000</td>\n",
       "      <td>Petrol</td>\n",
       "      <td>Individual</td>\n",
       "      <td>Manual</td>\n",
       "      <td>First Owner</td>\n",
       "      <td>16.1 kmpl</td>\n",
       "      <td>1298 CC</td>\n",
       "      <td>88.2 bhp</td>\n",
       "      <td>11.5@ 4,500(kgm@ rpm)</td>\n",
       "      <td>5.0</td>\n",
       "    </tr>\n",
       "  </tbody>\n",
       "</table>\n",
       "</div>"
      ],
      "text/plain": [
       "                           name  year  selling_price  km_driven    fuel  \\\n",
       "0        Maruti Swift Dzire VDI  2014         450000     145500  Diesel   \n",
       "1  Skoda Rapid 1.5 TDI Ambition  2014         370000     120000  Diesel   \n",
       "2      Honda City 2017-2020 EXi  2006         158000     140000  Petrol   \n",
       "3     Hyundai i20 Sportz Diesel  2010         225000     127000  Diesel   \n",
       "4        Maruti Swift VXI BSIII  2007         130000     120000  Petrol   \n",
       "\n",
       "  seller_type transmission         owner     mileage   engine   max_power  \\\n",
       "0  Individual       Manual   First Owner   23.4 kmpl  1248 CC      74 bhp   \n",
       "1  Individual       Manual  Second Owner  21.14 kmpl  1498 CC  103.52 bhp   \n",
       "2  Individual       Manual   Third Owner   17.7 kmpl  1497 CC      78 bhp   \n",
       "3  Individual       Manual   First Owner   23.0 kmpl  1396 CC      90 bhp   \n",
       "4  Individual       Manual   First Owner   16.1 kmpl  1298 CC    88.2 bhp   \n",
       "\n",
       "                     torque  seats  \n",
       "0            190Nm@ 2000rpm    5.0  \n",
       "1       250Nm@ 1500-2500rpm    5.0  \n",
       "2     12.7@ 2,700(kgm@ rpm)    5.0  \n",
       "3  22.4 kgm at 1750-2750rpm    5.0  \n",
       "4     11.5@ 4,500(kgm@ rpm)    5.0  "
      ]
     },
     "execution_count": 9,
     "metadata": {},
     "output_type": "execute_result"
    }
   ],
   "source": [
    "import pandas as pd\n",
    "\n",
    "df = pd.read_csv(\"Car details v3.csv\")  \n",
    "df.head()"
   ]
  },
  {
   "cell_type": "code",
   "execution_count": 37,
   "id": "4f0ee6d9-1edf-42cd-b609-e374f1e702c6",
   "metadata": {},
   "outputs": [],
   "source": [
    "import pandas as pd\n",
    "from sklearn.model_selection import train_test_split\n",
    "from sklearn.linear_model import LinearRegression\n",
    "from sklearn.metrics import mean_squared_error, r2_score"
   ]
  },
  {
   "cell_type": "code",
   "execution_count": 39,
   "id": "0a5dc479-9b75-4de6-9fe5-fb517f997e79",
   "metadata": {},
   "outputs": [
    {
     "name": "stdout",
     "output_type": "stream",
     "text": [
      "                           name  year  selling_price  km_driven seller_type  \\\n",
      "0        Maruti Swift Dzire VDI  2014         450000     145500  Individual   \n",
      "1  Skoda Rapid 1.5 TDI Ambition  2014         370000     120000  Individual   \n",
      "2      Honda City 2017-2020 EXi  2006         158000     140000  Individual   \n",
      "3     Hyundai i20 Sportz Diesel  2010         225000     127000  Individual   \n",
      "4        Maruti Swift VXI BSIII  2007         130000     120000  Individual   \n",
      "\n",
      "      mileage   engine   max_power                    torque  seats  \\\n",
      "0   23.4 kmpl  1248 CC      74 bhp            190Nm@ 2000rpm    5.0   \n",
      "1  21.14 kmpl  1498 CC  103.52 bhp       250Nm@ 1500-2500rpm    5.0   \n",
      "2   17.7 kmpl  1497 CC      78 bhp     12.7@ 2,700(kgm@ rpm)    5.0   \n",
      "3   23.0 kmpl  1396 CC      90 bhp  22.4 kgm at 1750-2750rpm    5.0   \n",
      "4   16.1 kmpl  1298 CC    88.2 bhp     11.5@ 4,500(kgm@ rpm)    5.0   \n",
      "\n",
      "   fuel_Diesel  fuel_LPG  fuel_Petrol  transmission_Manual  \\\n",
      "0         True     False        False                 True   \n",
      "1         True     False        False                 True   \n",
      "2        False     False         True                 True   \n",
      "3         True     False        False                 True   \n",
      "4        False     False         True                 True   \n",
      "\n",
      "   owner_Fourth & Above Owner  owner_Second Owner  owner_Test Drive Car  \\\n",
      "0                       False               False                 False   \n",
      "1                       False                True                 False   \n",
      "2                       False               False                 False   \n",
      "3                       False               False                 False   \n",
      "4                       False               False                 False   \n",
      "\n",
      "   owner_Third Owner  \n",
      "0              False  \n",
      "1              False  \n",
      "2               True  \n",
      "3              False  \n",
      "4              False  \n",
      "<class 'pandas.core.frame.DataFrame'>\n",
      "Index: 7906 entries, 0 to 8127\n",
      "Data columns (total 18 columns):\n",
      " #   Column                      Non-Null Count  Dtype  \n",
      "---  ------                      --------------  -----  \n",
      " 0   name                        7906 non-null   object \n",
      " 1   year                        7906 non-null   int64  \n",
      " 2   selling_price               7906 non-null   int64  \n",
      " 3   km_driven                   7906 non-null   int64  \n",
      " 4   seller_type                 7906 non-null   object \n",
      " 5   mileage                     7906 non-null   object \n",
      " 6   engine                      7906 non-null   object \n",
      " 7   max_power                   7906 non-null   object \n",
      " 8   torque                      7906 non-null   object \n",
      " 9   seats                       7906 non-null   float64\n",
      " 10  fuel_Diesel                 7906 non-null   bool   \n",
      " 11  fuel_LPG                    7906 non-null   bool   \n",
      " 12  fuel_Petrol                 7906 non-null   bool   \n",
      " 13  transmission_Manual         7906 non-null   bool   \n",
      " 14  owner_Fourth & Above Owner  7906 non-null   bool   \n",
      " 15  owner_Second Owner          7906 non-null   bool   \n",
      " 16  owner_Test Drive Car        7906 non-null   bool   \n",
      " 17  owner_Third Owner           7906 non-null   bool   \n",
      "dtypes: bool(8), float64(1), int64(3), object(6)\n",
      "memory usage: 741.2+ KB\n",
      "None\n",
      "              year  selling_price     km_driven        seats\n",
      "count  7906.000000   7.906000e+03  7.906000e+03  7906.000000\n",
      "mean   2013.983936   6.498137e+05  6.918866e+04     5.416393\n",
      "std       3.863695   8.135827e+05  5.679230e+04     0.959208\n",
      "min    1994.000000   2.999900e+04  1.000000e+00     2.000000\n",
      "25%    2012.000000   2.700000e+05  3.500000e+04     5.000000\n",
      "50%    2015.000000   4.500000e+05  6.000000e+04     5.000000\n",
      "75%    2017.000000   6.900000e+05  9.542500e+04     5.000000\n",
      "max    2020.000000   1.000000e+07  2.360457e+06    14.000000\n"
     ]
    }
   ],
   "source": [
    "print(df.head())\n",
    "print(df.info())\n",
    "print(df.describe())"
   ]
  },
  {
   "cell_type": "code",
   "execution_count": 63,
   "id": "488076c0-c0b9-48c0-92a6-44ca06e04b42",
   "metadata": {},
   "outputs": [
    {
     "name": "stdout",
     "output_type": "stream",
     "text": [
      "Index(['name', 'year', 'selling_price', 'km_driven', 'mileage', 'engine',\n",
      "       'max_power', 'torque', 'seats', 'fuel_Diesel', 'fuel_Petrol',\n",
      "       'owner_Fourth & Above Owner', 'owner_Second Owner',\n",
      "       'owner_Test Drive Car', 'owner_Third Owner', 'fuel_LPG_True',\n",
      "       'seller_type_Trustmark Dealer', 'transmission_Manual_True',\n",
      "       'seller_type_Individual_True'],\n",
      "      dtype='object')\n"
     ]
    }
   ],
   "source": [
    "print(df.columns)"
   ]
  },
  {
   "cell_type": "code",
   "execution_count": 65,
   "id": "4ecfd60e-2769-46cf-bd66-01a4c420a659",
   "metadata": {},
   "outputs": [
    {
     "name": "stdout",
     "output_type": "stream",
     "text": [
      "name                            0\n",
      "year                            0\n",
      "selling_price                   0\n",
      "km_driven                       0\n",
      "mileage                         0\n",
      "engine                          0\n",
      "max_power                       0\n",
      "torque                          0\n",
      "seats                           0\n",
      "fuel_Diesel                     0\n",
      "fuel_Petrol                     0\n",
      "owner_Fourth & Above Owner      0\n",
      "owner_Second Owner              0\n",
      "owner_Test Drive Car            0\n",
      "owner_Third Owner               0\n",
      "fuel_LPG_True                   0\n",
      "seller_type_Trustmark Dealer    0\n",
      "transmission_Manual_True        0\n",
      "seller_type_Individual_True     0\n",
      "dtype: int64\n"
     ]
    }
   ],
   "source": [
    "print(df.isnull().sum())"
   ]
  },
  {
   "cell_type": "code",
   "execution_count": 67,
   "id": "7a67b6cd-a8fd-4765-9dcd-bc19149933f8",
   "metadata": {},
   "outputs": [],
   "source": [
    "# Eliminar filas con valores nulos\n",
    "df.dropna(inplace=True)"
   ]
  },
  {
   "cell_type": "code",
   "execution_count": 69,
   "id": "29f169f2-928b-4456-8e78-587e160a1be6",
   "metadata": {},
   "outputs": [
    {
     "name": "stdout",
     "output_type": "stream",
     "text": [
      "name                            0\n",
      "year                            0\n",
      "selling_price                   0\n",
      "km_driven                       0\n",
      "mileage                         0\n",
      "engine                          0\n",
      "max_power                       0\n",
      "torque                          0\n",
      "seats                           0\n",
      "fuel_Diesel                     0\n",
      "fuel_Petrol                     0\n",
      "owner_Fourth & Above Owner      0\n",
      "owner_Second Owner              0\n",
      "owner_Test Drive Car            0\n",
      "owner_Third Owner               0\n",
      "fuel_LPG_True                   0\n",
      "seller_type_Trustmark Dealer    0\n",
      "transmission_Manual_True        0\n",
      "seller_type_Individual_True     0\n",
      "dtype: int64\n"
     ]
    }
   ],
   "source": [
    "print(df.isnull().sum())\n"
   ]
  },
  {
   "cell_type": "code",
   "execution_count": 79,
   "id": "95f2cf37-6d67-4057-8681-d81bb5cc82b9",
   "metadata": {},
   "outputs": [],
   "source": [
    "# Eliminar filas con valores nulos\n",
    "df.dropna(inplace=True)"
   ]
  },
  {
   "cell_type": "code",
   "execution_count": 73,
   "id": "4ef77c9f-46f5-41ba-91ab-222ab0897dd5",
   "metadata": {},
   "outputs": [],
   "source": [
    "# Definir las variables independientes (X) y dependientes (y)\n",
    "X = df.drop(['selling_price', 'name'], axis=1)  # Eliminamos 'selling_price' y 'name'\n",
    "y = df['selling_price']"
   ]
  },
  {
   "cell_type": "code",
   "execution_count": 83,
   "id": "f4a41dfb-2a44-40a0-abea-54ee1696f6c6",
   "metadata": {},
   "outputs": [],
   "source": [
    "from sklearn.model_selection import train_test_split\n",
    "\n",
    "# Dividir el dataset en conjuntos de entrenamiento y prueba\n",
    "X_train, X_test, y_train, y_test = train_test_split(X, y, test_size=0.2, random_state=42)"
   ]
  },
  {
   "cell_type": "code",
   "execution_count": 85,
   "id": "557c7950-9b99-45e4-8db4-2016af1789cd",
   "metadata": {},
   "outputs": [
    {
     "name": "stdout",
     "output_type": "stream",
     "text": [
      "name                            0\n",
      "year                            0\n",
      "selling_price                   0\n",
      "km_driven                       0\n",
      "mileage                         0\n",
      "engine                          0\n",
      "max_power                       0\n",
      "torque                          0\n",
      "seats                           0\n",
      "fuel_Diesel                     0\n",
      "fuel_Petrol                     0\n",
      "owner_Fourth & Above Owner      0\n",
      "owner_Second Owner              0\n",
      "owner_Test Drive Car            0\n",
      "owner_Third Owner               0\n",
      "fuel_LPG_True                   0\n",
      "seller_type_Trustmark Dealer    0\n",
      "transmission_Manual_True        0\n",
      "seller_type_Individual_True     0\n",
      "dtype: int64\n"
     ]
    }
   ],
   "source": [
    "# Función para limpiar las columnas y convertirlas a float\n",
    "def clean_numeric_column(column):\n",
    "    # Eliminar caracteres no numéricos y convertir a float\n",
    "    return column.str.extract('(\\d+\\.?\\d*)')[0].astype(float)\n",
    "\n",
    "# Limpiar las columnas\n",
    "df['mileage'] = clean_numeric_column(df['mileage'])\n",
    "df['engine'] = clean_numeric_column(df['engine'])\n",
    "df['max_power'] = clean_numeric_column(df['max_power'])\n",
    "\n",
    "# Verificar si hay valores nulos después de la limpieza\n",
    "print(df.isnull().sum())\n"
   ]
  },
  {
   "cell_type": "code",
   "execution_count": 87,
   "id": "4569e342-6e54-4124-bcb5-5ddc0c64a40b",
   "metadata": {},
   "outputs": [],
   "source": [
    "# Manejar valores nulos, si es necesario\n",
    "df.dropna(inplace=True)"
   ]
  },
  {
   "cell_type": "code",
   "execution_count": 97,
   "id": "9dae5876-1111-4053-86c1-456d5126aff6",
   "metadata": {},
   "outputs": [
    {
     "data": {
      "text/html": [
       "<style>#sk-container-id-1 {color: black;}#sk-container-id-1 pre{padding: 0;}#sk-container-id-1 div.sk-toggleable {background-color: white;}#sk-container-id-1 label.sk-toggleable__label {cursor: pointer;display: block;width: 100%;margin-bottom: 0;padding: 0.3em;box-sizing: border-box;text-align: center;}#sk-container-id-1 label.sk-toggleable__label-arrow:before {content: \"▸\";float: left;margin-right: 0.25em;color: #696969;}#sk-container-id-1 label.sk-toggleable__label-arrow:hover:before {color: black;}#sk-container-id-1 div.sk-estimator:hover label.sk-toggleable__label-arrow:before {color: black;}#sk-container-id-1 div.sk-toggleable__content {max-height: 0;max-width: 0;overflow: hidden;text-align: left;background-color: #f0f8ff;}#sk-container-id-1 div.sk-toggleable__content pre {margin: 0.2em;color: black;border-radius: 0.25em;background-color: #f0f8ff;}#sk-container-id-1 input.sk-toggleable__control:checked~div.sk-toggleable__content {max-height: 200px;max-width: 100%;overflow: auto;}#sk-container-id-1 input.sk-toggleable__control:checked~label.sk-toggleable__label-arrow:before {content: \"▾\";}#sk-container-id-1 div.sk-estimator input.sk-toggleable__control:checked~label.sk-toggleable__label {background-color: #d4ebff;}#sk-container-id-1 div.sk-label input.sk-toggleable__control:checked~label.sk-toggleable__label {background-color: #d4ebff;}#sk-container-id-1 input.sk-hidden--visually {border: 0;clip: rect(1px 1px 1px 1px);clip: rect(1px, 1px, 1px, 1px);height: 1px;margin: -1px;overflow: hidden;padding: 0;position: absolute;width: 1px;}#sk-container-id-1 div.sk-estimator {font-family: monospace;background-color: #f0f8ff;border: 1px dotted black;border-radius: 0.25em;box-sizing: border-box;margin-bottom: 0.5em;}#sk-container-id-1 div.sk-estimator:hover {background-color: #d4ebff;}#sk-container-id-1 div.sk-parallel-item::after {content: \"\";width: 100%;border-bottom: 1px solid gray;flex-grow: 1;}#sk-container-id-1 div.sk-label:hover label.sk-toggleable__label {background-color: #d4ebff;}#sk-container-id-1 div.sk-serial::before {content: \"\";position: absolute;border-left: 1px solid gray;box-sizing: border-box;top: 0;bottom: 0;left: 50%;z-index: 0;}#sk-container-id-1 div.sk-serial {display: flex;flex-direction: column;align-items: center;background-color: white;padding-right: 0.2em;padding-left: 0.2em;position: relative;}#sk-container-id-1 div.sk-item {position: relative;z-index: 1;}#sk-container-id-1 div.sk-parallel {display: flex;align-items: stretch;justify-content: center;background-color: white;position: relative;}#sk-container-id-1 div.sk-item::before, #sk-container-id-1 div.sk-parallel-item::before {content: \"\";position: absolute;border-left: 1px solid gray;box-sizing: border-box;top: 0;bottom: 0;left: 50%;z-index: -1;}#sk-container-id-1 div.sk-parallel-item {display: flex;flex-direction: column;z-index: 1;position: relative;background-color: white;}#sk-container-id-1 div.sk-parallel-item:first-child::after {align-self: flex-end;width: 50%;}#sk-container-id-1 div.sk-parallel-item:last-child::after {align-self: flex-start;width: 50%;}#sk-container-id-1 div.sk-parallel-item:only-child::after {width: 0;}#sk-container-id-1 div.sk-dashed-wrapped {border: 1px dashed gray;margin: 0 0.4em 0.5em 0.4em;box-sizing: border-box;padding-bottom: 0.4em;background-color: white;}#sk-container-id-1 div.sk-label label {font-family: monospace;font-weight: bold;display: inline-block;line-height: 1.2em;}#sk-container-id-1 div.sk-label-container {text-align: center;}#sk-container-id-1 div.sk-container {/* jupyter's `normalize.less` sets `[hidden] { display: none; }` but bootstrap.min.css set `[hidden] { display: none !important; }` so we also need the `!important` here to be able to override the default hidden behavior on the sphinx rendered scikit-learn.org. See: https://github.com/scikit-learn/scikit-learn/issues/21755 */display: inline-block !important;position: relative;}#sk-container-id-1 div.sk-text-repr-fallback {display: none;}</style><div id=\"sk-container-id-1\" class=\"sk-top-container\"><div class=\"sk-text-repr-fallback\"><pre>LinearRegression()</pre><b>In a Jupyter environment, please rerun this cell to show the HTML representation or trust the notebook. <br />On GitHub, the HTML representation is unable to render, please try loading this page with nbviewer.org.</b></div><div class=\"sk-container\" hidden><div class=\"sk-item\"><div class=\"sk-estimator sk-toggleable\"><input class=\"sk-toggleable__control sk-hidden--visually\" id=\"sk-estimator-id-1\" type=\"checkbox\" checked><label for=\"sk-estimator-id-1\" class=\"sk-toggleable__label sk-toggleable__label-arrow\">LinearRegression</label><div class=\"sk-toggleable__content\"><pre>LinearRegression()</pre></div></div></div></div></div>"
      ],
      "text/plain": [
       "LinearRegression()"
      ]
     },
     "execution_count": 97,
     "metadata": {},
     "output_type": "execute_result"
    }
   ],
   "source": [
    "# Redefinir las variables independientes (X) y dependientes (y)\n",
    "X = df.drop(['selling_price', 'name'], axis=1)\n",
    "y = df['selling_price']\n",
    "\n",
    "# Dividir el dataset en conjuntos de entrenamiento y prueba\n",
    "from sklearn.model_selection import train_test_split\n",
    "X_train, X_test, y_train, y_test = train_test_split(X, y, test_size=0.2, random_state=42)\n",
    "\n",
    "# Entrenar el modelo de regresión lineal\n",
    "from sklearn.linear_model import LinearRegression\n",
    "model = LinearRegression()\n",
    "model.fit(X_train, y_train)"
   ]
  },
  {
   "cell_type": "code",
   "execution_count": 99,
   "id": "b655721a-e97a-45c6-8804-13585de505f0",
   "metadata": {},
   "outputs": [
    {
     "name": "stdout",
     "output_type": "stream",
     "text": [
      "Mean Squared Error: 216230490380.89752\n",
      "R^2 Score: 0.6890036463263263\n"
     ]
    }
   ],
   "source": [
    "from sklearn.metrics import mean_squared_error, r2_score\n",
    "\n",
    "# Hacer predicciones\n",
    "y_pred = model.predict(X_test)\n",
    "\n",
    "# Evaluar el modelo\n",
    "mse = mean_squared_error(y_test, y_pred)\n",
    "r2 = r2_score(y_test, y_pred)\n",
    "\n",
    "print(f'Mean Squared Error: {mse}')\n",
    "print(f'R^2 Score: {r2}')"
   ]
  },
  {
   "cell_type": "code",
   "execution_count": null,
   "id": "fc577f80-c549-4742-9cda-574d478b36c9",
   "metadata": {},
   "outputs": [],
   "source": []
  }
 ],
 "metadata": {
  "kernelspec": {
   "display_name": "anaconda-panel-2023.05-py310",
   "language": "python",
   "name": "conda-env-anaconda-panel-2023.05-py310-py"
  },
  "language_info": {
   "codemirror_mode": {
    "name": "ipython",
    "version": 3
   },
   "file_extension": ".py",
   "mimetype": "text/x-python",
   "name": "python",
   "nbconvert_exporter": "python",
   "pygments_lexer": "ipython3",
   "version": "3.11.5"
  }
 },
 "nbformat": 4,
 "nbformat_minor": 5
}
